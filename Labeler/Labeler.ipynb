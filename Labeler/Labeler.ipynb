{
 "cells": [
  {
   "cell_type": "markdown",
   "id": "731d9def",
   "metadata": {},
   "source": [
    "# This is the data labeler - everything that has to do with image labels is done here. This includes:\n",
    "<ul>\n",
    "    <li>(Partly) labelling the initial data using Pidgey (the individual image tagging happens over PhotoTagger) - <font color='red'>Cells 5-10 are not supposed to run correctly, because the the pidgey import is commented out</font></li>\n",
    "    <li>Copying initial images into corresponding \"Use\", \"Exclude\" and \"Not sure\" folders</li>\n",
    "    <li>Writing an initial sort out file, containing a list of every image and its corresponding folder</li>\n",
    "    <li>Renaming images according to their id</li>\n",
    "    <li>Plotting data after it has been labelled - according to its tags:\n",
    "        <ul>\n",
    "            <li>Bar plot - All tags</li>\n",
    "            <li>Heatmap - Only important tags of binary categories: Environent, Sun visibility, Cloud visibility</li>\n",
    "        </ul>\n",
    "    </li>        \n",
    "</ul>"
   ]
  },
  {
   "cell_type": "code",
   "execution_count": 6,
   "id": "3306158b",
   "metadata": {},
   "outputs": [],
   "source": [
    "#from pigeon import annotate #This is a comment because else the annotation process would run and takes a very long time to completet\n",
    "from os import listdir, rename\n",
    "from os.path import isfile, join\n",
    "import random\n",
    "from IPython.display import display, Image\n",
    "from shutil import copyfile\n",
    "import utils"
   ]
  },
  {
   "cell_type": "code",
   "execution_count": 7,
   "id": "0382f324",
   "metadata": {},
   "outputs": [],
   "source": [
    "imagesPath = 'D:/Documents/Uni Kurse/Bachelorarbeit/CC Crawler/images'\n",
    "\n",
    "def listFiles(path):\n",
    "    onlyfiles = [f for f in listdir(path) if isfile(join(path, f))]\n",
    "    return onlyfiles\n",
    "\n",
    "def getImageIds(imageNameList):\n",
    "    imageIds = [int(imageName.split('_')[0]) for imageName in imageNameList]\n",
    "    return imageIds\n",
    "\n",
    "def getImageIdFromName(imageName):\n",
    "    return int(imageName.split('_')[0])\n",
    "\n",
    "def sortImageNamesById(imageNameList):\n",
    "    imageIds = getImageIds(imageNameList)\n",
    "    toSort = [(i, name) for i,name in zip(imageIds, imageNameList)] #Create a list of tuples of type: [(0, '0_xxx_xxx_xxx.jpg), (1, '2_xxx_xxx_xxx.jpg), ...]\n",
    "    res = [pair[1] for pair in sorted(toSort, key = lambda pair:pair[0])]\n",
    "    return res"
   ]
  },
  {
   "cell_type": "code",
   "execution_count": 8,
   "id": "a71b137f",
   "metadata": {},
   "outputs": [],
   "source": [
    "imageNames = listFiles(imagesPath)\n",
    "imageNames = sortImageNamesById(imageNames)\n",
    "imagePaths = [imagesPath + \"/\" + name for name in imageNames]\n",
    "imageIds = getImageIds(imageNames)"
   ]
  },
  {
   "cell_type": "code",
   "execution_count": 9,
   "id": "4502167c",
   "metadata": {},
   "outputs": [
    {
     "name": "stdout",
     "output_type": "stream",
     "text": [
      "Same length: True\n",
      "Same random id: True\n"
     ]
    },
    {
     "data": {
      "text/plain": [
       "('279_15644973102_c208971bff_o.jpg', 279)"
      ]
     },
     "execution_count": 9,
     "metadata": {},
     "output_type": "execute_result"
    }
   ],
   "source": [
    "#Check if everything went smooth\n",
    "print(\"Same length:\",len(imageNames) == len(imagePaths) == len(imageIds))\n",
    "rId = random.randint(0, len(imageNames))\n",
    "print(\"Same random id:\",int(imageNames[rId].split('_')[0]) == imageIds[rId])\n",
    "imageNames[rId], rId"
   ]
  },
  {
   "cell_type": "code",
   "execution_count": 10,
   "id": "4a2b0e88",
   "metadata": {},
   "outputs": [
    {
     "ename": "NameError",
     "evalue": "name 'annotate' is not defined",
     "output_type": "error",
     "traceback": [
      "\u001b[1;31m---------------------------------------------------------------------------\u001b[0m",
      "\u001b[1;31mNameError\u001b[0m                                 Traceback (most recent call last)",
      "\u001b[1;32m<ipython-input-10-ad7e206ecb7a>\u001b[0m in \u001b[0;36m<module>\u001b[1;34m\u001b[0m\n\u001b[1;32m----> 1\u001b[1;33m annotationsUsablePictures = annotate(\n\u001b[0m\u001b[0;32m      2\u001b[0m \u001b[1;31m#   ['I love this movie', 'I was really disappointed by the book'],\u001b[0m\u001b[1;33m\u001b[0m\u001b[1;33m\u001b[0m\u001b[1;33m\u001b[0m\u001b[0m\n\u001b[0;32m      3\u001b[0m     \u001b[0mimagePaths\u001b[0m\u001b[1;33m,\u001b[0m\u001b[1;33m\u001b[0m\u001b[1;33m\u001b[0m\u001b[0m\n\u001b[0;32m      4\u001b[0m   \u001b[0moptions\u001b[0m\u001b[1;33m=\u001b[0m\u001b[1;33m[\u001b[0m\u001b[1;34m\"Use\"\u001b[0m\u001b[1;33m,\u001b[0m \u001b[1;34m\"Exclude\"\u001b[0m\u001b[1;33m,\u001b[0m \u001b[1;34m\"Not sure\"\u001b[0m\u001b[1;33m]\u001b[0m\u001b[1;33m,\u001b[0m\u001b[1;33m\u001b[0m\u001b[1;33m\u001b[0m\u001b[0m\n\u001b[0;32m      5\u001b[0m     \u001b[0mdisplay_fn\u001b[0m\u001b[1;33m=\u001b[0m\u001b[1;32mlambda\u001b[0m \u001b[0mfilename\u001b[0m\u001b[1;33m:\u001b[0m \u001b[0mdisplay\u001b[0m\u001b[1;33m(\u001b[0m\u001b[0mImage\u001b[0m\u001b[1;33m(\u001b[0m\u001b[0mfilename\u001b[0m\u001b[1;33m)\u001b[0m\u001b[1;33m)\u001b[0m\u001b[1;33m\u001b[0m\u001b[1;33m\u001b[0m\u001b[0m\n",
      "\u001b[1;31mNameError\u001b[0m: name 'annotate' is not defined"
     ]
    }
   ],
   "source": [
    "annotationsUsablePictures = annotate(\n",
    "#   ['I love this movie', 'I was really disappointed by the book'],\n",
    "    imagePaths,\n",
    "  options=[\"Use\", \"Exclude\", \"Not sure\"],\n",
    "    display_fn=lambda filename: display(Image(filename))\n",
    ")"
   ]
  },
  {
   "cell_type": "code",
   "execution_count": 11,
   "id": "3588ef03",
   "metadata": {},
   "outputs": [
    {
     "ename": "NameError",
     "evalue": "name 'annotationsUsablePictures' is not defined",
     "output_type": "error",
     "traceback": [
      "\u001b[1;31m---------------------------------------------------------------------------\u001b[0m",
      "\u001b[1;31mNameError\u001b[0m                                 Traceback (most recent call last)",
      "\u001b[1;32m<ipython-input-11-97810c1b2a47>\u001b[0m in \u001b[0;36m<module>\u001b[1;34m\u001b[0m\n\u001b[1;32m----> 1\u001b[1;33m \u001b[0mannotationsUsablePictures\u001b[0m\u001b[1;33m\u001b[0m\u001b[1;33m\u001b[0m\u001b[0m\n\u001b[0m",
      "\u001b[1;31mNameError\u001b[0m: name 'annotationsUsablePictures' is not defined"
     ]
    }
   ],
   "source": [
    "annotationsUsablePictures"
   ]
  },
  {
   "cell_type": "code",
   "execution_count": 12,
   "id": "6d303f20",
   "metadata": {},
   "outputs": [],
   "source": [
    "def calcStats(annotationsList):\n",
    "    categories = []\n",
    "    categoryCounters = []\n",
    "    for entry in annotationsList:\n",
    "        cat = entry[1]\n",
    "        if (cat not in categories):\n",
    "            categories.append(cat)\n",
    "            newCounter = 1\n",
    "            categoryCounters.append(newCounter)\n",
    "        else:\n",
    "            i = categories.index(cat)\n",
    "            categoryCounters[i]+=1\n",
    "    for category, counter in zip(categories, categoryCounters):\n",
    "        print(\"Category:\",category, \"- Amount of pictures:\", counter)\n",
    "    print(\"Total pictures rated:\", sum(categoryCounters))\n",
    "    return (categories, categoryCounters)"
   ]
  },
  {
   "cell_type": "code",
   "execution_count": 13,
   "id": "45d63e77",
   "metadata": {},
   "outputs": [
    {
     "ename": "NameError",
     "evalue": "name 'annotationsUsablePictures' is not defined",
     "output_type": "error",
     "traceback": [
      "\u001b[1;31m---------------------------------------------------------------------------\u001b[0m",
      "\u001b[1;31mNameError\u001b[0m                                 Traceback (most recent call last)",
      "\u001b[1;32m<ipython-input-13-477d96c5ac46>\u001b[0m in \u001b[0;36m<module>\u001b[1;34m\u001b[0m\n\u001b[1;32m----> 1\u001b[1;33m \u001b[0mcalcStats\u001b[0m\u001b[1;33m(\u001b[0m\u001b[0mannotationsUsablePictures\u001b[0m\u001b[1;33m)\u001b[0m\u001b[1;33m\u001b[0m\u001b[1;33m\u001b[0m\u001b[0m\n\u001b[0m",
      "\u001b[1;31mNameError\u001b[0m: name 'annotationsUsablePictures' is not defined"
     ]
    }
   ],
   "source": [
    "calcStats(annotationsUsablePictures)"
   ]
  },
  {
   "cell_type": "code",
   "execution_count": null,
   "id": "059541d9",
   "metadata": {},
   "outputs": [],
   "source": [
    "def changeEntry(entries, eId, newCat):\n",
    "    entry = entries[eId]\n",
    "    if entry[1] == newCat:\n",
    "        print('Category is already',newCat)\n",
    "        print(entry)\n",
    "        return\n",
    "    path = entry[0]\n",
    "    newEntry = (path, newCat)\n",
    "    print(\"Old entry:\",entry)\n",
    "    print(\"New entry:\", newEntry)\n",
    "    entries[eId] = newEntry"
   ]
  },
  {
   "cell_type": "code",
   "execution_count": 14,
   "id": "da9e28b1",
   "metadata": {},
   "outputs": [
    {
     "ename": "NameError",
     "evalue": "name 'changeEntry' is not defined",
     "output_type": "error",
     "traceback": [
      "\u001b[1;31m---------------------------------------------------------------------------\u001b[0m",
      "\u001b[1;31mNameError\u001b[0m                                 Traceback (most recent call last)",
      "\u001b[1;32m<ipython-input-14-feff231d5b7f>\u001b[0m in \u001b[0;36m<module>\u001b[1;34m\u001b[0m\n\u001b[0;32m      1\u001b[0m \u001b[0mtoChange\u001b[0m \u001b[1;33m=\u001b[0m \u001b[1;33m[\u001b[0m\u001b[1;36m55\u001b[0m\u001b[1;33m,\u001b[0m \u001b[1;36m207\u001b[0m\u001b[1;33m,\u001b[0m \u001b[1;36m246\u001b[0m\u001b[1;33m,\u001b[0m \u001b[1;36m274\u001b[0m\u001b[1;33m,\u001b[0m \u001b[1;36m490\u001b[0m\u001b[1;33m]\u001b[0m\u001b[1;33m\u001b[0m\u001b[1;33m\u001b[0m\u001b[0m\n\u001b[0;32m      2\u001b[0m \u001b[1;32mfor\u001b[0m \u001b[0mi\u001b[0m \u001b[1;32min\u001b[0m \u001b[0mtoChange\u001b[0m\u001b[1;33m:\u001b[0m\u001b[1;33m\u001b[0m\u001b[1;33m\u001b[0m\u001b[0m\n\u001b[1;32m----> 3\u001b[1;33m     \u001b[0mchangeEntry\u001b[0m\u001b[1;33m(\u001b[0m\u001b[0mannotationsUsablePictures\u001b[0m\u001b[1;33m,\u001b[0m\u001b[0mi\u001b[0m\u001b[1;33m,\u001b[0m\u001b[1;34m\"Not sure\"\u001b[0m\u001b[1;33m)\u001b[0m\u001b[1;33m\u001b[0m\u001b[1;33m\u001b[0m\u001b[0m\n\u001b[0m\u001b[0;32m      4\u001b[0m \u001b[0mannotationsUsablePictures\u001b[0m\u001b[1;33m[\u001b[0m\u001b[1;36m490\u001b[0m\u001b[1;33m]\u001b[0m\u001b[1;33m\u001b[0m\u001b[1;33m\u001b[0m\u001b[0m\n\u001b[0;32m      5\u001b[0m \u001b[1;31m# changeEntry(annotationsUsablePictures,630,\"Use\")\u001b[0m\u001b[1;33m\u001b[0m\u001b[1;33m\u001b[0m\u001b[1;33m\u001b[0m\u001b[0m\n",
      "\u001b[1;31mNameError\u001b[0m: name 'changeEntry' is not defined"
     ]
    }
   ],
   "source": [
    "toChange = [55, 207, 246, 274, 490]\n",
    "for i in toChange:\n",
    "    changeEntry(annotationsUsablePictures,i,\"Not sure\")\n",
    "annotationsUsablePictures[490]\n",
    "# changeEntry(annotationsUsablePictures,630,\"Use\")\n",
    "# annotationsUsablePictures[620:640]\n"
   ]
  },
  {
   "cell_type": "code",
   "execution_count": null,
   "id": "6072f47a",
   "metadata": {},
   "outputs": [],
   "source": [
    "# changeEntry(annotationsUsablePictures,247,\"Use\")"
   ]
  },
  {
   "cell_type": "code",
   "execution_count": null,
   "id": "fe529e24",
   "metadata": {},
   "outputs": [],
   "source": [
    "def writeFirstSortOut(annotationsUsablePictures):\n",
    "    output_firstSortOut = open(\"firstSortOut.txt\", 'w')#, encoding='utf-8')\n",
    "    header = \"imageId;category;imagePath\\n\"\n",
    "    output_firstSortOut.write(header)\n",
    "    for entry in annotationsUsablePictures:\n",
    "        imPath = entry[0]\n",
    "        imId = getImageIdFromName(imPath.split('/')[-1])\n",
    "        category = entry[1]\n",
    "        line = f\"{imId};{category};{imPath}\\n\"\n",
    "        output_firstSortOut.write(line)\n",
    "    output_firstSortOut.close()"
   ]
  },
  {
   "cell_type": "code",
   "execution_count": 15,
   "id": "9228ba59",
   "metadata": {},
   "outputs": [],
   "source": [
    "# writeFirstSortOut(annotationsUsablePictures)"
   ]
  },
  {
   "cell_type": "markdown",
   "id": "e4a6dd6d",
   "metadata": {},
   "source": [
    "### Copy images to corresponding Category Folders"
   ]
  },
  {
   "cell_type": "code",
   "execution_count": 16,
   "id": "07bac44a",
   "metadata": {},
   "outputs": [],
   "source": [
    "def copyToLabelFolders(entries, path = 'D:/Documents/Uni Kurse/Bachelorarbeit/Labeler/taggedImages/'):\n",
    "    categories = calcStats(entries)[0]\n",
    "    categoryPaths = [path+cat for cat in categories]\n",
    "    copyStats = {\n",
    "        'Use': 0,\n",
    "        'Exclude': 0,\n",
    "        'Not sure': 0\n",
    "    }\n",
    "    for entry in entries:\n",
    "        originalPath = entry[0]\n",
    "        category = entry[1]\n",
    "        catIndex = categories.index(category)\n",
    "        catPath = categoryPaths[catIndex]\n",
    "        imName = originalPath.split('/')[-1]\n",
    "        newPath = catPath + \"/\" + imName\n",
    "        copyfile(originalPath, newPath)\n",
    "        copyStats[category] += 1\n",
    "    print(\"Successfully copied:\")\n",
    "    print(copyStats)\n",
    "    \n",
    "'''\n",
    "Receives list of image names in form of 'ID_NAME_[,tags,].jpg'\n",
    "'''\n",
    "def copyToCategoryFolders(imageNames,sourcePath = \"D:/Documents/Uni Kurse/Bachelorarbeit/Labeler/taggedImages/Use/\", savePath = 'D:/Documents/Uni Kurse/Bachelorarbeit/Labeler/final_images/'):\n",
    "    #Define our categories\n",
    "    env = [',beach',',landscape'] #Environment Type\n",
    "    sun = [',visiblesun',',invisiblesun'] #Sun Type\n",
    "    clouds = [',yesclouds',',noclouds'] #Cloud Type\n",
    "    #Loop\n",
    "    for e in env:\n",
    "        for s in sun:\n",
    "            for c in clouds:\n",
    "                #Define the filter lambda\n",
    "                l = lambda imName : e in imName and s in imName and c in imName\n",
    "                \n",
    "                #Print current image category\n",
    "                printText = f\"\\n************\\n{e[1:]} - {s[1:]} - {c[1:]}:\\n\"\n",
    "                print(printText)\n",
    "                \n",
    "                #Filter the images that satisfy the search criteria\n",
    "                batch = list(filter(l,imageNames)) #Filter all images with the given parameters\n",
    "                \n",
    "                #Create the folder name\n",
    "                folderName = '_'.join([e[1:],s[1:],c[1:]]) + '/'\n",
    "                \n",
    "                #Copy the images to the appropriate folders\n",
    "                for imName in batch:\n",
    "                    oldPath = sourcePath + imName\n",
    "                    newPath = savePath + folderName + imName\n",
    "                    print(f\"Copying: {oldPath}\")\n",
    "                    print(f\"To: {newPath}\")\n",
    "                    utils.createFolderIfNeeded(savePath+folderName)\n",
    "                    copyfile(oldPath,newPath)\n",
    "    \n",
    "    "
   ]
  },
  {
   "cell_type": "code",
   "execution_count": 17,
   "id": "e6cbce63",
   "metadata": {},
   "outputs": [],
   "source": [
    "#Gather all image names and sort them by id\n",
    "taggedImagesPath = \"D:/Documents/Uni Kurse/Bachelorarbeit/Labeler/taggedImages/Use/\"\n",
    "taggedImagesNames = listFiles(taggedImagesPath)\n",
    "taggedImagesNames = sortImageNamesById(taggedImagesNames)\n",
    "\n",
    "myImagesPath = \"D:/Documents/Uni Kurse/Bachelorarbeit/Labeler/my_images/\"\n",
    "myImagesNames = listFiles(myImagesPath)\n",
    "myImagesNames = sortImageNamesById(myImagesNames)\n",
    "\n",
    "extraImagesPath = \"D:/Documents/Uni Kurse/Bachelorarbeit/Labeler/extra_images/\"\n",
    "extraImagesNames = listFiles(extraImagesPath)\n",
    "extraImagesNames = sortImageNamesById(extraImagesNames)"
   ]
  },
  {
   "cell_type": "code",
   "execution_count": 18,
   "id": "f4ab5e2e",
   "metadata": {},
   "outputs": [],
   "source": [
    "#Execute the function per source folder\n",
    "# copyToCategoryFolders(taggedImagesNames,taggedImagesPath)\n",
    "# copyToCategoryFolders(myImagesNames, myImagesPath)\n",
    "# copyToCategoryFolders(extraImagesNames, extraImagesPath)"
   ]
  },
  {
   "cell_type": "code",
   "execution_count": 19,
   "id": "0887c6f1",
   "metadata": {},
   "outputs": [
    {
     "name": "stdout",
     "output_type": "stream",
     "text": [
      "012.123\n"
     ]
    }
   ],
   "source": [
    "test = 12.123456\n",
    "print(f\"{test:07.3f}\")"
   ]
  },
  {
   "cell_type": "markdown",
   "id": "6ccd88e5",
   "metadata": {},
   "source": [
    "### The next cell is to properly id and rename the my_images images"
   ]
  },
  {
   "cell_type": "code",
   "execution_count": 20,
   "id": "2c96bef3",
   "metadata": {},
   "outputs": [],
   "source": [
    "# #Get the last known id from our existing images\n",
    "# lastId = max(imageIds)\n",
    "# my_im_currentId = lastId + 1\n",
    "# # rename('file path/OLD file name.file type','file path/NEW file name.file type')\n",
    "# my_images_names = listFiles(r\"D:\\Documents\\Uni Kurse\\Bachelorarbeit\\Labeler\\my_images\")\n",
    "# my_images_new_names = []\n",
    "# for i, p in enumerate(my_images_names):\n",
    "#     newName = str(my_im_currentId) + \"_\" + p\n",
    "#     my_images_new_names.append(newName)\n",
    "#     my_im_currentId += 1\n",
    "# myPath = \"D:/Documents/Uni Kurse/Bachelorarbeit/Labeler/my_images/\"\n",
    "# for old,new in zip(my_images_names, my_images_new_names):\n",
    "# #     print(\"renaming\", myPath + old, \"to\", myPath + new)\n",
    "#     rename(myPath + old, myPath + new)"
   ]
  },
  {
   "cell_type": "markdown",
   "id": "076e4d56",
   "metadata": {},
   "source": [
    "# From this point on we working with image statistics"
   ]
  },
  {
   "cell_type": "code",
   "execution_count": 21,
   "id": "366ce07f",
   "metadata": {},
   "outputs": [],
   "source": [
    "def getTags(nameList):\n",
    "    tags = []\n",
    "    for name in nameList:\n",
    "        nameTags = name.split('_')[-1].split('.')[0] #Drop extension\n",
    "        if (nameTags[:2] != \"[,\" and nameTags[-2:] != \",]\"):\n",
    "            print(name,\"exclude\")\n",
    "            continue\n",
    "        nameTags = nameTags[2:-2].split(',') #Remove [, and ,]\n",
    "        for tag in nameTags:\n",
    "            if tag not in tags:\n",
    "                tags.append(tag)\n",
    "    return tags\n",
    "        \n",
    "\n",
    "def getStatsFromNames(path):\n",
    "    names = listFiles(path)\n",
    "    names = sortImageNamesById(names)\n",
    "    tags = getTags(names)\n",
    "    print(\"Tags:\",tags)\n",
    "    tagCounters = dict()\n",
    "    tagCounters['exclude'] = 0\n",
    "    tagCounters['n'] = 0 #To count distinct pictures\n",
    "    for tag in tags:\n",
    "        tagCounters[tag] = 0\n",
    "    for name in names:\n",
    "        tagCounters['n']+=1\n",
    "        imageTags = name.split('_')[-1].split('.')[0] #Drop extension\n",
    "        imageTags = imageTags[2:-2].split(',')\n",
    "        if '' in imageTags:\n",
    "            tagCounters['exclude']+=1\n",
    "            continue\n",
    "        for tag in imageTags:\n",
    "            tagCounters[tag] += 1\n",
    "    return tagCounters"
   ]
  },
  {
   "cell_type": "markdown",
   "id": "a8764253",
   "metadata": {},
   "source": [
    "##### Check if method is working properly"
   ]
  },
  {
   "cell_type": "code",
   "execution_count": 22,
   "id": "e6d8f193",
   "metadata": {},
   "outputs": [
    {
     "data": {
      "text/plain": [
       "['testTag1', 'testTag2']"
      ]
     },
     "execution_count": 22,
     "metadata": {},
     "output_type": "execute_result"
    }
   ],
   "source": [
    "getTags([\"_makanga_[,testTag1,testTag2,]\"])"
   ]
  },
  {
   "cell_type": "markdown",
   "id": "6a935aa4",
   "metadata": {},
   "source": [
    "## Get the stats"
   ]
  },
  {
   "cell_type": "code",
   "execution_count": 23,
   "id": "0ef83026",
   "metadata": {},
   "outputs": [
    {
     "name": "stdout",
     "output_type": "stream",
     "text": [
      "226_6294890147_a9414f6226_o.jpg exclude\n",
      "227_6295421410_4dca81fa4a_o.jpg exclude\n",
      "252_6295404910_2f1f4e3f3f_o.jpg exclude\n",
      "348_49322254096_1bebf310a6_o.jpg exclude\n",
      "351_37489258171_1f860cc8ae_o.jpg exclude\n",
      "Tags: ['use', 'beach', 'visiblesun', 'mediumclouds', 'noclouds', 'yesclouds', 'landscape', 'invisiblesun', 'watermark', 'obstructedview', 'lake', 'badquality', 'heavilyedited', 'city', 'needsedit', 'peoplevisible', 'buildingvisible']\n",
      "Tags: ['use', 'city', 'invisiblesun', 'yesclouds', 'landscape', 'visiblesun', 'beach', 'noclouds', 'mediumclouds', 'lake']\n",
      "Tags: ['use', 'landscape', 'invisiblesun', 'noclouds', 'badquality', 'beach', 'visiblesun']\n"
     ]
    },
    {
     "data": {
      "text/plain": [
       "({'exclude': 5,\n",
       "  'n': 293,\n",
       "  'use': 288,\n",
       "  'beach': 154,\n",
       "  'visiblesun': 140,\n",
       "  'mediumclouds': 8,\n",
       "  'noclouds': 38,\n",
       "  'yesclouds': 241,\n",
       "  'landscape': 109,\n",
       "  'invisiblesun': 148,\n",
       "  'watermark': 17,\n",
       "  'obstructedview': 30,\n",
       "  'lake': 30,\n",
       "  'badquality': 3,\n",
       "  'heavilyedited': 7,\n",
       "  'city': 27,\n",
       "  'needsedit': 14,\n",
       "  'peoplevisible': 12,\n",
       "  'buildingvisible': 6},\n",
       " {'exclude': 0,\n",
       "  'n': 42,\n",
       "  'use': 42,\n",
       "  'city': 8,\n",
       "  'invisiblesun': 21,\n",
       "  'yesclouds': 11,\n",
       "  'landscape': 7,\n",
       "  'visiblesun': 21,\n",
       "  'beach': 27,\n",
       "  'noclouds': 25,\n",
       "  'mediumclouds': 6,\n",
       "  'lake': 2},\n",
       " {'exclude': 0,\n",
       "  'n': 10,\n",
       "  'use': 10,\n",
       "  'landscape': 9,\n",
       "  'invisiblesun': 6,\n",
       "  'noclouds': 10,\n",
       "  'badquality': 3,\n",
       "  'beach': 1,\n",
       "  'visiblesun': 4})"
      ]
     },
     "execution_count": 23,
     "metadata": {},
     "output_type": "execute_result"
    }
   ],
   "source": [
    "stats = getStatsFromNames(\"D:/Documents/Uni Kurse/Bachelorarbeit/Labeler/taggedImages/Use\")\n",
    "myStats = getStatsFromNames(\"D:/Documents/Uni Kurse/Bachelorarbeit/Labeler/my_images\")\n",
    "extraStats = getStatsFromNames(\"D:/Documents/Uni Kurse/Bachelorarbeit/Labeler/extra_images\")\n",
    "stats, myStats, extraStats"
   ]
  },
  {
   "cell_type": "markdown",
   "id": "b2c6b8fc",
   "metadata": {},
   "source": [
    "## Merge the stats"
   ]
  },
  {
   "cell_type": "code",
   "execution_count": 24,
   "id": "176b59d0",
   "metadata": {},
   "outputs": [
    {
     "data": {
      "text/plain": [
       "{'exclude': 5,\n",
       " 'n': 345,\n",
       " 'use': 340,\n",
       " 'beach': 182,\n",
       " 'visiblesun': 165,\n",
       " 'mediumclouds': 14,\n",
       " 'noclouds': 73,\n",
       " 'yesclouds': 252,\n",
       " 'landscape': 125,\n",
       " 'invisiblesun': 175,\n",
       " 'watermark': 17,\n",
       " 'obstructedview': 30,\n",
       " 'lake': 32,\n",
       " 'badquality': 6,\n",
       " 'heavilyedited': 7,\n",
       " 'city': 35,\n",
       " 'needsedit': 14,\n",
       " 'peoplevisible': 12,\n",
       " 'buildingvisible': 6}"
      ]
     },
     "execution_count": 24,
     "metadata": {},
     "output_type": "execute_result"
    }
   ],
   "source": [
    "allStats = dict()\n",
    "for tag in stats.keys():\n",
    "    allStats[tag] = stats[tag]\n",
    "for tag in myStats.keys():\n",
    "    allStats[tag] += myStats[tag]\n",
    "for tag in extraStats.keys():\n",
    "    allStats[tag] += extraStats[tag]\n",
    "allStats"
   ]
  },
  {
   "cell_type": "markdown",
   "id": "18037589",
   "metadata": {},
   "source": [
    "## Plot the data"
   ]
  },
  {
   "cell_type": "code",
   "execution_count": 25,
   "id": "93b60d0e",
   "metadata": {},
   "outputs": [],
   "source": [
    "from matplotlib import pyplot as plt\n",
    "from PIL import Image\n",
    "import numpy as np\n",
    "import seaborn as sns\n",
    "import pandas\n",
    "%matplotlib inline"
   ]
  },
  {
   "cell_type": "markdown",
   "id": "ccbb5e9a",
   "metadata": {},
   "source": [
    "### Plot all labels into one big bar plot"
   ]
  },
  {
   "cell_type": "code",
   "execution_count": 26,
   "id": "77457151",
   "metadata": {},
   "outputs": [
    {
     "data": {
      "text/plain": [
       "([('yesclouds', 252),\n",
       "  ('beach', 182),\n",
       "  ('invisiblesun', 175),\n",
       "  ('visiblesun', 165),\n",
       "  ('landscape', 125),\n",
       "  ('noclouds', 73),\n",
       "  ('city', 35),\n",
       "  ('lake', 32),\n",
       "  ('obstructedview', 30),\n",
       "  ('watermark', 17),\n",
       "  ('mediumclouds', 14),\n",
       "  ('needsedit', 14),\n",
       "  ('peoplevisible', 12),\n",
       "  ('heavilyedited', 7),\n",
       "  ('badquality', 6),\n",
       "  ('buildingvisible', 6)],\n",
       " 16,\n",
       " {'environment': [('beach', 182),\n",
       "   ('landscape', 125),\n",
       "   ('city', 35),\n",
       "   ('lake', 32)],\n",
       "  'sun_visibility': [('invisiblesun', 175), ('visiblesun', 165)],\n",
       "  'cloud_visibility': [('yesclouds', 252),\n",
       "   ('noclouds', 73),\n",
       "   ('mediumclouds', 14)],\n",
       "  'parameters': [('obstructedview', 30),\n",
       "   ('watermark', 17),\n",
       "   ('needsedit', 14),\n",
       "   ('peoplevisible', 12),\n",
       "   ('heavilyedited', 7),\n",
       "   ('badquality', 6),\n",
       "   ('buildingvisible', 6)]})"
      ]
     },
     "execution_count": 26,
     "metadata": {},
     "output_type": "execute_result"
    }
   ],
   "source": [
    "x = list(allStats.keys())[3:]\n",
    "y = list(allStats.values())[3:]\n",
    "tuples = []\n",
    "for x0,y0 in zip(x,y):\n",
    "    tuples.append(tuple([x0,y0]))\n",
    "tuples = sorted(tuples,key=lambda e: e[1], reverse=True)\n",
    "\n",
    "tagCategories = {\n",
    "    'environment' : ['beach','landscape','city','lake'],\n",
    "    'sun_visibility' : ['invisiblesun','visiblesun'],\n",
    "    'cloud_visibility' : ['yesclouds','noclouds','mediumclouds'],\n",
    "    'parameters' : ['obstructedview','watermark','needsedit','peoplevisible','heavilyedited','buildingvisible','badquality']\n",
    "}\n",
    "\n",
    "categoryColors = {\n",
    "    'environment' : 'red',\n",
    "    'sun_visibility' : 'orange',\n",
    "    'cloud_visibility' : 'gray',\n",
    "    'parameters' : 'green'\n",
    "}\n",
    "\n",
    "\n",
    "def splitTuplesByCategory(cats, tuples):\n",
    "    res = dict()\n",
    "    for cat in cats.keys():\n",
    "        res[cat] = []\n",
    "        for t in tuples:\n",
    "            if (t[0] in cats[cat]):\n",
    "                res[cat].append(t)\n",
    "    return res\n",
    "            \n",
    "tupsByCat = splitTuplesByCategory(tagCategories, tuples)\n",
    "tuples, len(tuples), tupsByCat"
   ]
  },
  {
   "cell_type": "code",
   "execution_count": 27,
   "id": "45970147",
   "metadata": {},
   "outputs": [
    {
     "name": "stderr",
     "output_type": "stream",
     "text": [
      "<ipython-input-27-5e2fb33af9b1>:31: UserWarning: Matplotlib is currently using module://ipykernel.pylab.backend_inline, which is a non-GUI backend, so cannot show the figure.\n",
      "  fig.show()\n"
     ]
    },
    {
     "data": {
      "image/png": "[encoded data removed]",
      "text/plain": [
       "<Figure size 1296x432 with 1 Axes>"
      ]
     },
     "metadata": {
      "needs_background": "light"
     },
     "output_type": "display_data"
    }
   ],
   "source": [
    "#Create the figure\n",
    "fig= plt.figure(figsize=(18,6))\n",
    "#ax = plt.gca() #Get current ax\n",
    "#plt.bar(tuples)\n",
    "#plt.xticks(rotation=45)\n",
    "# plt.bar(['sex','pepe'],[1,4])\n",
    "\n",
    "#i counts the current bar index \n",
    "i=0\n",
    "n = allStats['use']\n",
    "#Plot the data\n",
    "for cat,tups in zip(tupsByCat.keys(),tupsByCat.values()):\n",
    "    xs = [t[0] for t in tups]\n",
    "    ys = [t[1] for t in tups]\n",
    "    col = categoryColors[cat]\n",
    "    plt.bar(xs, ys, color = col, label=cat)\n",
    "    #Add the precise number of elements above the i-th plot\n",
    "    for v in ys:\n",
    "        plt.text(i-0.15,v+5, str(v), color='blue', fontweight='bold')\n",
    "        i+=1\n",
    "#Plot an empty bar in order to add n to the legend\n",
    "plt.bar(0,0, color='purple', label=f'n={n}',alpha=0)\n",
    "# plt.bar(range(len(tuples)), [val[1] for val in tuples], align='center')\n",
    "# plt.xticks(range(len(tuples)), [val[0] for val in tuples])\n",
    "plt.xticks(rotation=45)\n",
    "plt.ylabel(\"Abs. Frequency\")\n",
    "plt.xlabel(\"Photo tag\")\n",
    "plt.legend(fontsize='x-large')\n",
    "plt.title(f\"Absolute frequency of photo tags among n = {n} pictures\")\n",
    "plt.tight_layout(pad=1)\n",
    "fig.show()"
   ]
  },
  {
   "cell_type": "code",
   "execution_count": 28,
   "id": "47589237",
   "metadata": {},
   "outputs": [],
   "source": [
    "#Save the figure\n",
    "# fig.savefig('testplot3.jpg',dpi=150)\n",
    "# Image.open('testplot.png').save('testplot.jpg','JPEG')"
   ]
  },
  {
   "cell_type": "markdown",
   "id": "bd145f67",
   "metadata": {},
   "source": [
    "### Plot relevant data into a 2-D heatmap"
   ]
  },
  {
   "cell_type": "code",
   "execution_count": 29,
   "id": "c0ad826c",
   "metadata": {},
   "outputs": [
    {
     "name": "stdout",
     "output_type": "stream",
     "text": [
      "******* Results: *******\n",
      "beach,visiblesun,yesclouds       : 66\n",
      "beach,visiblesun,noclouds        : 33\n",
      "beach,invisiblesun,yesclouds     : 64\n",
      "beach,invisiblesun,noclouds      : 10\n",
      "landscape,visiblesun,yesclouds   : 33\n",
      "landscape,visiblesun,noclouds    : 12\n",
      "landscape,invisiblesun,yesclouds : 66\n",
      "landscape,invisiblesun,noclouds  : 11\n",
      "\n",
      "******* Debugging output starts here: *******\n",
      "n: 295\n"
     ]
    }
   ],
   "source": [
    "#List all known filenames\n",
    "taggedImagesNames = listFiles(\"D:/Documents/Uni Kurse/Bachelorarbeit/Labeler/taggedImages/Use\")\n",
    "myImagesNames = listFiles(\"D:/Documents/Uni Kurse/Bachelorarbeit/Labeler/my_images\")\n",
    "extraImagesNames = listFiles(\"D:/Documents/Uni Kurse/Bachelorarbeit/Labeler/extra_images\")\n",
    "allNames = taggedImagesNames + myImagesNames + extraImagesNames\n",
    "#Sort the filenames by id\n",
    "allNames = sortImageNamesById(allNames)\n",
    "#Create binary categories\n",
    "#Note: the ',' before the category name is to make sure the category starts with this name \n",
    "#E.g.: visiblesun is contained in invisiblesun\n",
    "c1 = [',beach',',landscape'] #Environment Type\n",
    "c2 = [',visiblesun',',invisiblesun'] #Sun Type\n",
    "c3 = [',yesclouds',',noclouds']#,',mediumclouds'] #Cloud Type\n",
    "#Create the data aray for beach\n",
    "db = np.empty((2,2),dtype=int)\n",
    "#Create the data array for landscape\n",
    "dl = np.empty((2,2),dtype=int)\n",
    "#Put those into one list for usability\n",
    "d = [db,dl]\n",
    "#Count the entries with nChecker to make sure numbers add up and neutralize labelling errors in case they don't\n",
    "nChecker = 0\n",
    "print(\"******* Results: *******\")\n",
    "#Iterate over the environment\n",
    "for e, env in enumerate(c1):\n",
    "    #Iterate over the sun type\n",
    "    for i, sun in enumerate(c2):\n",
    "        #Iterate over the cloud type\n",
    "        for j, clouds in enumerate(c3):\n",
    "            #Filter out all lists that belong to current group of parameters\n",
    "            l = lambda n : env in n and sun in n and clouds in n\n",
    "            testResult = list(filter(l,allNames))\n",
    "            #The string containing result data\n",
    "            sRes = f\"{env}{sun}{clouds}\"\n",
    "            sRes = sRes[1:] #Drop the first ','\n",
    "            #Fetch the amount of entries satisfying the current parameters\n",
    "            countRes = len(testResult)\n",
    "            #Add that amount to n\n",
    "            nChecker+=countRes\n",
    "            #Update the corresponding data array with the found n\n",
    "            d[e][i,j] = countRes\n",
    "            print(f\"{sRes:32s}\",\":\",countRes) #String formatting\n",
    "\n",
    "#The rest of this cell is for debugging purposes\n",
    "print(\"\\n******* Debugging output starts here: *******\")\n",
    "# l = lambda n : 'landscape' in n and 'invisiblesun' in n and 'noclouds' in n\n",
    "# # l = lambda n : 'beach' in n and ',invisiblesun' in n and ',visiblesun' in n\n",
    "# testRes1 = list(filter(l, allNames))\n",
    "print('n:',nChecker)\n",
    "# print(len(testRes1))\n",
    "#print(testRes1)\n",
    "# print(d[0])\n",
    "# print(d[1])"
   ]
  },
  {
   "cell_type": "code",
   "execution_count": 30,
   "id": "d2fee1b9",
   "metadata": {},
   "outputs": [
    {
     "data": {
      "image/png": "[encoded data removed]",
      "text/plain": [
       "<Figure size 864x396 with 4 Axes>"
      ]
     },
     "metadata": {
      "needs_background": "light"
     },
     "output_type": "display_data"
    }
   ],
   "source": [
    "# vmin=np.min(d)\n",
    "#Specify the min and max values for the color bar\n",
    "vmin=0\n",
    "vmax=np.max(d)\n",
    "#Create the figure with 2 subplots\n",
    "fig2, axes = plt.subplots(ncols=2,figsize=(12,5.5))\n",
    "fig2.subplots_adjust(hspace=10)\n",
    "fig2.tight_layout(pad=8)\n",
    "fig2.suptitle(f\"Anzahl der benutzbaren Bilder für jede Bildkategorie.\\nGesamt: {nChecker}\")\n",
    "#Plot the data\n",
    "for e, ax in enumerate(axes):\n",
    "    #Create a dataFrame based on the current data matrix\n",
    "#     dataset = pandas.DataFrame(data=d[e], index=['visibleSun','invisibleSun'], columns=['yesClouds','noClouds'])\n",
    "    #Plot the heatmap on the ax\n",
    "    ax = sns.heatmap(d[e], ax=ax, annot=True, fmt='d', square=True,vmin=vmin,vmax=vmax,cmap='flare')#,cbar_kws={\"shrink\": 0.53})\n",
    "    #Specify the labels\n",
    "    ax.set_yticklabels(['visibleSun','invisibleSun'], rotation=30)\n",
    "    ax.set_xticklabels(['yesClouds','noClouds'])\n",
    "    ax.set_title(c1[e][1:])\n",
    "    ax.set_ylabel(\"Sun Visibility\")\n",
    "    ax.set_xlabel(\"Cloud Visibility\")\n",
    "#Save the figure\n",
    "#fig2.savefig('Heatmap_allImages.jpg', dpi=150)"
   ]
  },
  {
   "cell_type": "code",
   "execution_count": null,
   "id": "49d93428",
   "metadata": {},
   "outputs": [],
   "source": []
  }
 ],
 "metadata": {
  "kernelspec": {
   "display_name": "Python 3",
   "language": "python",
   "name": "python3"
  },
  "language_info": {
   "codemirror_mode": {
    "name": "ipython",
    "version": 3
   },
   "file_extension": ".py",
   "mimetype": "text/x-python",
   "name": "python",
   "nbconvert_exporter": "python",
   "pygments_lexer": "ipython3",
   "version": "3.9.4"
  }
 },
 "nbformat": 4,
 "nbformat_minor": 5
}
